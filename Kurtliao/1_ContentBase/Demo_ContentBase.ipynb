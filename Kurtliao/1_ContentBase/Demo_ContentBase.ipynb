{
 "cells": [
  {
   "cell_type": "code",
   "execution_count": 343,
   "metadata": {
    "collapsed": true
   },
   "outputs": [],
   "source": [
    "import pandas as pd\n",
    "import numpy as np\n",
    "import math\n",
    "Ratings=pd.read_csv(\"ratings.csv\")\n",
    "Movies=pd.read_csv(\"movies.csv\")\n",
    "Tags=pd.read_csv(\"tags.csv\")"
   ]
  },
  {
   "cell_type": "code",
   "execution_count": 344,
   "metadata": {
    "collapsed": false
   },
   "outputs": [
    {
     "data": {
      "text/html": [
       "<div>\n",
       "<table border=\"1\" class=\"dataframe\">\n",
       "  <thead>\n",
       "    <tr style=\"text-align: right;\">\n",
       "      <th></th>\n",
       "      <th>userId</th>\n",
       "      <th>movieId</th>\n",
       "      <th>rating</th>\n",
       "      <th>timestamp</th>\n",
       "    </tr>\n",
       "  </thead>\n",
       "  <tbody>\n",
       "    <tr>\n",
       "      <th>0</th>\n",
       "      <td>12882</td>\n",
       "      <td>1</td>\n",
       "      <td>4.0</td>\n",
       "      <td>1147195252</td>\n",
       "    </tr>\n",
       "    <tr>\n",
       "      <th>1</th>\n",
       "      <td>12882</td>\n",
       "      <td>32</td>\n",
       "      <td>3.5</td>\n",
       "      <td>1147195307</td>\n",
       "    </tr>\n",
       "    <tr>\n",
       "      <th>2</th>\n",
       "      <td>12882</td>\n",
       "      <td>47</td>\n",
       "      <td>5.0</td>\n",
       "      <td>1147195343</td>\n",
       "    </tr>\n",
       "    <tr>\n",
       "      <th>3</th>\n",
       "      <td>12882</td>\n",
       "      <td>50</td>\n",
       "      <td>5.0</td>\n",
       "      <td>1147185499</td>\n",
       "    </tr>\n",
       "    <tr>\n",
       "      <th>4</th>\n",
       "      <td>12882</td>\n",
       "      <td>110</td>\n",
       "      <td>4.5</td>\n",
       "      <td>1147195239</td>\n",
       "    </tr>\n",
       "  </tbody>\n",
       "</table>\n",
       "</div>"
      ],
      "text/plain": [
       "   userId  movieId  rating   timestamp\n",
       "0   12882        1     4.0  1147195252\n",
       "1   12882       32     3.5  1147195307\n",
       "2   12882       47     5.0  1147195343\n",
       "3   12882       50     5.0  1147185499\n",
       "4   12882      110     4.5  1147195239"
      ]
     },
     "execution_count": 344,
     "metadata": {},
     "output_type": "execute_result"
    }
   ],
   "source": [
    "Ratings.iloc[np.where(Ratings.userId ==12882)].head()"
   ]
  },
  {
   "cell_type": "code",
   "execution_count": 345,
   "metadata": {
    "collapsed": false
   },
   "outputs": [
    {
     "data": {
      "text/html": [
       "<div>\n",
       "<table border=\"1\" class=\"dataframe\">\n",
       "  <thead>\n",
       "    <tr style=\"text-align: right;\">\n",
       "      <th></th>\n",
       "      <th>movieId</th>\n",
       "      <th>title</th>\n",
       "      <th>genres</th>\n",
       "    </tr>\n",
       "  </thead>\n",
       "  <tbody>\n",
       "    <tr>\n",
       "      <th>0</th>\n",
       "      <td>1</td>\n",
       "      <td>Toy Story (1995)</td>\n",
       "      <td>Adventure|Animation|Children|Comedy|Fantasy</td>\n",
       "    </tr>\n",
       "    <tr>\n",
       "      <th>1</th>\n",
       "      <td>2</td>\n",
       "      <td>Jumanji (1995)</td>\n",
       "      <td>Adventure|Children|Fantasy</td>\n",
       "    </tr>\n",
       "    <tr>\n",
       "      <th>2</th>\n",
       "      <td>3</td>\n",
       "      <td>Grumpier Old Men (1995)</td>\n",
       "      <td>Comedy|Romance</td>\n",
       "    </tr>\n",
       "    <tr>\n",
       "      <th>3</th>\n",
       "      <td>4</td>\n",
       "      <td>Waiting to Exhale (1995)</td>\n",
       "      <td>Comedy|Drama|Romance</td>\n",
       "    </tr>\n",
       "    <tr>\n",
       "      <th>4</th>\n",
       "      <td>5</td>\n",
       "      <td>Father of the Bride Part II (1995)</td>\n",
       "      <td>Comedy</td>\n",
       "    </tr>\n",
       "  </tbody>\n",
       "</table>\n",
       "</div>"
      ],
      "text/plain": [
       "   movieId                               title  \\\n",
       "0        1                    Toy Story (1995)   \n",
       "1        2                      Jumanji (1995)   \n",
       "2        3             Grumpier Old Men (1995)   \n",
       "3        4            Waiting to Exhale (1995)   \n",
       "4        5  Father of the Bride Part II (1995)   \n",
       "\n",
       "                                        genres  \n",
       "0  Adventure|Animation|Children|Comedy|Fantasy  \n",
       "1                   Adventure|Children|Fantasy  \n",
       "2                               Comedy|Romance  \n",
       "3                         Comedy|Drama|Romance  \n",
       "4                                       Comedy  "
      ]
     },
     "execution_count": 345,
     "metadata": {},
     "output_type": "execute_result"
    }
   ],
   "source": [
    "Movies.head()"
   ]
  },
  {
   "cell_type": "code",
   "execution_count": 333,
   "metadata": {
    "collapsed": false
   },
   "outputs": [
    {
     "data": {
      "text/html": [
       "<div>\n",
       "<table border=\"1\" class=\"dataframe\">\n",
       "  <thead>\n",
       "    <tr style=\"text-align: right;\">\n",
       "      <th></th>\n",
       "      <th>movieId</th>\n",
       "      <th>userId</th>\n",
       "      <th>tag</th>\n",
       "      <th>timestamp</th>\n",
       "    </tr>\n",
       "  </thead>\n",
       "  <tbody>\n",
       "    <tr>\n",
       "      <th>0</th>\n",
       "      <td>3916</td>\n",
       "      <td>12882</td>\n",
       "      <td>sports</td>\n",
       "      <td>1147195545</td>\n",
       "    </tr>\n",
       "    <tr>\n",
       "      <th>4322</th>\n",
       "      <td>3916</td>\n",
       "      <td>12778</td>\n",
       "      <td>sports</td>\n",
       "      <td>1137526967</td>\n",
       "    </tr>\n",
       "    <tr>\n",
       "      <th>6513</th>\n",
       "      <td>3916</td>\n",
       "      <td>130819</td>\n",
       "      <td>Denzel Washington</td>\n",
       "      <td>1220315397</td>\n",
       "    </tr>\n",
       "    <tr>\n",
       "      <th>7026</th>\n",
       "      <td>3916</td>\n",
       "      <td>95552</td>\n",
       "      <td>based on a true story</td>\n",
       "      <td>1330489043</td>\n",
       "    </tr>\n",
       "    <tr>\n",
       "      <th>7027</th>\n",
       "      <td>3916</td>\n",
       "      <td>95552</td>\n",
       "      <td>football</td>\n",
       "      <td>1330489048</td>\n",
       "    </tr>\n",
       "  </tbody>\n",
       "</table>\n",
       "</div>"
      ],
      "text/plain": [
       "      movieId  userId                    tag   timestamp\n",
       "0        3916   12882                 sports  1147195545\n",
       "4322     3916   12778                 sports  1137526967\n",
       "6513     3916  130819      Denzel Washington  1220315397\n",
       "7026     3916   95552  based on a true story  1330489043\n",
       "7027     3916   95552               football  1330489048"
      ]
     },
     "execution_count": 333,
     "metadata": {},
     "output_type": "execute_result"
    }
   ],
   "source": [
    "Tags.iloc[np.where(Tags.movieId==3916)].head()"
   ]
  },
  {
   "cell_type": "code",
   "execution_count": 22,
   "metadata": {
    "collapsed": false
   },
   "outputs": [
    {
     "ename": "SyntaxError",
     "evalue": "invalid syntax (<ipython-input-22-58359bbecf05>, line 2)",
     "output_type": "error",
     "traceback": [
      "\u001b[0;36m  File \u001b[0;32m\"<ipython-input-22-58359bbecf05>\"\u001b[0;36m, line \u001b[0;32m2\u001b[0m\n\u001b[0;31m    Tag_distinct = Tags[[‘tag’,’movieId’]].drop_duplicates()\u001b[0m\n\u001b[0m                         ^\u001b[0m\n\u001b[0;31mSyntaxError\u001b[0m\u001b[0;31m:\u001b[0m invalid syntax\n"
     ]
    }
   ],
   "source": [
    "a=math.log10(len(np.unique(Tags[‘movieId’])))\n",
    "DF[‘IDF’]=a-np.log10(DF[‘tag_count_DF’])\n",
    "TF = pd.merge(TF,DF,on = ‘tag’, how = ‘left’, sort = False)\n",
    "TF[‘TF-IDF’]=TF[‘tag_count_TF’]*TF[‘IDF’]"
   ]
  },
  {
   "cell_type": "code",
   "execution_count": 37,
   "metadata": {
    "collapsed": false
   },
   "outputs": [],
   "source": [
    "#計算每一個Tag在每一個movie上的次數，轉換成這個關鍵字對於此電影的TF-IDF\n",
    "TF= Tags.groupby(['movieId','tag'], as_index = False, sort = False).count().rename(columns = {'userId': 'tag_count_TF'})[['movieId','tag','tag_count_TF']]\n",
    "Tag_distinct = Tags[['tag','movieId']].drop_duplicates()\n",
    "DF =Tag_distinct.groupby(['tag'], as_index = False, sort = False).count().rename(columns = {'movieId': 'tag_count_DF'})[['tag','tag_count_DF']]\n",
    "a=math.log10(len(np.unique(Tags['movieId'])))\n",
    "DF['IDF']=a-np.log10(DF['tag_count_DF'])\n",
    "TF = pd.merge(TF,DF,on = 'tag', how = 'left', sort = False)\n",
    "TF['TF-IDF']=TF['tag_count_TF']*TF['IDF']"
   ]
  },
  {
   "cell_type": "code",
   "execution_count": 335,
   "metadata": {
    "collapsed": false
   },
   "outputs": [],
   "source": [
    "#TF.head()"
   ]
  },
  {
   "cell_type": "code",
   "execution_count": 48,
   "metadata": {
    "collapsed": false
   },
   "outputs": [
    {
     "name": "stderr",
     "output_type": "stream",
     "text": [
      "/usr/local/lib/python2.7/site-packages/ipykernel/__main__.py:2: SettingWithCopyWarning: \n",
      "A value is trying to be set on a copy of a slice from a DataFrame.\n",
      "Try using .loc[row_indexer,col_indexer] = value instead\n",
      "\n",
      "See the caveats in the documentation: http://pandas.pydata.org/pandas-docs/stable/indexing.html#indexing-view-versus-copy\n",
      "  from ipykernel import kernelapp as app\n"
     ]
    }
   ],
   "source": [
    "Vect_len=TF[['movieId','TF-IDF']]\n",
    "Vect_len['TF-IDF-Sq']=Vect_len['TF-IDF']**2\n",
    "Vect_len =Vect_len.groupby(['movieId'], as_index = False, sort = False).sum().rename(columns = {\n",
    "        'TF-IDF-Sq': 'TF-IDF-Sq-sum'})[['movieId','TF-IDF-Sq-sum']]\n",
    "Vect_len['vect_len'] = np.sqrt(Vect_len[['TF-IDF-Sq-sum']].sum(axis=1))\n",
    "TF = pd.merge(TF,Vect_len,on = 'movieId', how = 'left', sort = False)\n",
    "TF['TAG_WT']=TF['TF-IDF']/TF['vect_len']"
   ]
  },
  {
   "cell_type": "code",
   "execution_count": null,
   "metadata": {
    "collapsed": true
   },
   "outputs": [],
   "source": []
  },
  {
   "cell_type": "code",
   "execution_count": 53,
   "metadata": {
    "collapsed": false
   },
   "outputs": [],
   "source": [
    "Ratings_filter=Ratings[Ratings['rating']>=3.5]\n",
    "distinct_users=np.unique(Ratings['userId'])\n",
    "user_tag_pref=pd.DataFrame()"
   ]
  },
  {
   "cell_type": "code",
   "execution_count": 72,
   "metadata": {
    "collapsed": false
   },
   "outputs": [
    {
     "name": "stdout",
     "output_type": "stream",
     "text": [
      "user: 20 out of: 862\n",
      "user: 40 out of: 862\n",
      "user: 60 out of: 862\n",
      "user: 80 out of: 862\n",
      "user: 100 out of: 862\n",
      "user: 120 out of: 862\n",
      "user: 140 out of: 862\n",
      "user: 160 out of: 862\n",
      "user: 180 out of: 862\n",
      "user: 200 out of: 862\n",
      "user: 220 out of: 862\n",
      "user: 240 out of: 862\n",
      "user: 260 out of: 862\n",
      "user: 280 out of: 862\n",
      "user: 300 out of: 862\n",
      "user: 320 out of: 862\n",
      "user: 340 out of: 862\n",
      "user: 360 out of: 862\n",
      "user: 380 out of: 862\n",
      "user: 400 out of: 862\n",
      "user: 420 out of: 862\n",
      "user: 440 out of: 862\n",
      "user: 460 out of: 862\n",
      "user: 480 out of: 862\n",
      "user: 500 out of: 862\n",
      "user: 520 out of: 862\n",
      "user: 540 out of: 862\n",
      "user: 560 out of: 862\n",
      "user: 580 out of: 862\n",
      "user: 600 out of: 862\n",
      "user: 620 out of: 862\n",
      "user: 640 out of: 862\n",
      "user: 660 out of: 862\n",
      "user: 680 out of: 862\n",
      "user: 700 out of: 862\n",
      "user: 720 out of: 862\n",
      "user: 740 out of: 862\n",
      "user: 760 out of: 862\n",
      "user: 780 out of: 862\n",
      "user: 800 out of: 862\n",
      "user: 820 out of: 862\n",
      "user: 840 out of: 862\n",
      "user: 860 out of: 862\n"
     ]
    }
   ],
   "source": [
    "i=1\n",
    "for user in distinct_users:\n",
    "    if i%20==0:\n",
    "        print'user:', i , 'out of:', len(distinct_users)\n",
    "    user_data= Ratings_filter[Ratings_filter['userId']==user]\n",
    "    user_data = pd.merge(TF,user_data,on = 'movieId', how = 'inner', sort = False)\n",
    "    user_data1 = user_data.groupby(['tag'], as_index = False, sort = False).sum().rename(columns = {\n",
    "                'TAG_WT': 'tag_pref'})[['tag','tag_pref']]\n",
    "    user_data1['user']=user\n",
    "    user_tag_pref = user_tag_pref.append(user_data1, ignore_index=True)\n",
    "    i=i+1"
   ]
  },
  {
   "cell_type": "code",
   "execution_count": 262,
   "metadata": {
    "collapsed": false
   },
   "outputs": [],
   "source": [
    "TF['sq_TAG_WT'] = TF['TAG_WT']*TF['TAG_WT']\n",
    "get_1=pd.merge(TF,user_tag_pref,on='tag',how='left',sort=False)\n",
    "get_1['tag_pref']=get_1['tag_pref'].fillna(0)\n",
    "get_1['tag_value'] = get_1['TAG_WT']*get_1['tag_pref']\n",
    "get_movie_pre_score = get_1.groupby(['movieId','user'])[['sq_TAG_WT']].sum().rename(columns = {\n",
    "                'sq_TAG_WT': 'sq_TAG_Val'}).reset_index()"
   ]
  },
  {
   "cell_type": "code",
   "execution_count": 263,
   "metadata": {
    "collapsed": false
   },
   "outputs": [],
   "source": [
    "get_movie_pre_score['TAG_WT_VAL'] = np.sqrt(get_movie_pre_score['sq_TAG_Val'])"
   ]
  },
  {
   "cell_type": "code",
   "execution_count": 264,
   "metadata": {
    "collapsed": false
   },
   "outputs": [],
   "source": [
    "user_tag_pref['sq_tag_pref'] = np.square(user_tag_pref['tag_pref'])\n",
    "get_user_score=user_tag_pref.groupby(['user'])[['sq_tag_pref']].sum().rename(columns={'sq_tag_pref':'sq_tag_pre_val'}).reset_index()\n",
    "get_user_score['tag_pre_val'] = np.sqrt(get_user_score['sq_tag_pre_val'])"
   ]
  },
  {
   "cell_type": "code",
   "execution_count": 265,
   "metadata": {
    "collapsed": false
   },
   "outputs": [],
   "source": [
    "user_movie_rating = get_1.groupby(['user','movieId'])[['tag_value']].sum().rename(columns = {\n",
    "                'tag_value': 'Rating'}).reset_index()\n",
    "user_movie_rating = pd.merge(user_movie_rating,get_movie_pre_score,on=['user','movieId'],how='inner')\n",
    "user_movie_rating = pd.merge(user_movie_rating,get_user_score,on='user',how='inner')"
   ]
  },
  {
   "cell_type": "code",
   "execution_count": 273,
   "metadata": {
    "collapsed": false
   },
   "outputs": [],
   "source": [
    "#user_movie_rating['TAG_WT_VAL']*\n",
    "user_movie_rating['Rating'] =user_movie_rating['Rating']/(user_movie_rating['tag_pre_val'])\n",
    "tag_merge_all=user_movie_rating[['user','movieId','Rating']]"
   ]
  },
  {
   "cell_type": "code",
   "execution_count": 269,
   "metadata": {
    "collapsed": false
   },
   "outputs": [
    {
     "data": {
      "text/plain": [
       "\"\\n\\ntag_merge_all=pd.DataFrame()\\ni=1\\nfor user in distinct_users[1:100]:\\n    user_tag_pref_all= user_tag_pref[user_tag_pref['user']==user]\\n    distinct_movies = np.unique(TF['movieId'])\\n    j=1\\n    for movie in distinct_movies:\\n        if j%300==0:\\n            print 'movie: ', j , 'out of: ', len(distinct_movies) , 'with user: ', i , 'out of: ', len(distinct_users)\\n            \\n        TF_Movie= TF[TF['movieId']==movie]\\n        tag_merge = pd.merge(TF_Movie,user_tag_pref_all,on = 'tag', how = 'left', sort = False)\\n        tag_merge['tag_pref']=tag_merge['tag_pref'].fillna(0)\\n        tag_merge['tag_value']=tag_merge['TAG_WT']*tag_merge['tag_pref']\\n        TAG_WT_val=np.sqrt(np.sum(np.square(tag_merge['TAG_WT']), axis=0))\\n        tag_pref_val=np.sqrt(np.sum(np.square(user_tag_pref_all['tag_pref']), axis=0))\\n        tag_merge_final = tag_merge.groupby(['user','movieId'])[['tag_value']].sum().rename(columns = {\\n                'tag_value': 'Rating'}).reset_index()\\n        tag_merge_final['Rating']=tag_merge_final['Rating']/(TAG_WT_val*tag_pref_val)\\n        tag_merge_all = tag_merge_all.append(tag_merge_final, ignore_index=True)\\n        j=j+1\\n    i=i+1\\ntag_merge_all=tag_merge_all.sort_index(by=['user','Rating']).reset_index()\\n \""
      ]
     },
     "execution_count": 269,
     "metadata": {},
     "output_type": "execute_result"
    }
   ],
   "source": [
    "\"\"\"\n",
    "原文作法\n",
    "tag_merge_all=pd.DataFrame()\n",
    "i=1\n",
    "for user in distinct_users[1:100]:\n",
    "    user_tag_pref_all= user_tag_pref[user_tag_pref['user']==user]\n",
    "    distinct_movies = np.unique(TF['movieId'])\n",
    "    j=1\n",
    "    for movie in distinct_movies:\n",
    "        if j%300==0:\n",
    "            print 'movie: ', j , 'out of: ', len(distinct_movies) , 'with user: ', i , 'out of: ', len(distinct_users)\n",
    "            \n",
    "        TF_Movie= TF[TF['movieId']==movie]\n",
    "        tag_merge = pd.merge(TF_Movie,user_tag_pref_all,on = 'tag', how = 'left', sort = False)\n",
    "        tag_merge['tag_pref']=tag_merge['tag_pref'].fillna(0)\n",
    "        tag_merge['tag_value']=tag_merge['TAG_WT']*tag_merge['tag_pref']\n",
    "        TAG_WT_val=np.sqrt(np.sum(np.square(tag_merge['TAG_WT']), axis=0))\n",
    "        tag_pref_val=np.sqrt(np.sum(np.square(user_tag_pref_all['tag_pref']), axis=0))\n",
    "        tag_merge_final = tag_merge.groupby(['user','movieId'])[['tag_value']].sum().rename(columns = {\n",
    "                'tag_value': 'Rating'}).reset_index()\n",
    "        tag_merge_final['Rating']=tag_merge_final['Rating']/(TAG_WT_val*tag_pref_val)\n",
    "        tag_merge_all = tag_merge_all.append(tag_merge_final, ignore_index=True)\n",
    "        j=j+1\n",
    "    i=i+1\n",
    "tag_merge_all=tag_merge_all.sort_index(by=['user','Rating']).reset_index()\n",
    " \"\"\""
   ]
  },
  {
   "cell_type": "code",
   "execution_count": 283,
   "metadata": {
    "collapsed": false
   },
   "outputs": [],
   "source": [
    "#tag_merge_all.sort_values(by=['user','Rating'],ascending=[True,False]).reset_index().drop('index',axis=1)"
   ]
  },
  {
   "cell_type": "code",
   "execution_count": 339,
   "metadata": {
    "collapsed": false
   },
   "outputs": [],
   "source": [
    "#tag_merge_all.head()"
   ]
  },
  {
   "cell_type": "markdown",
   "metadata": {},
   "source": [
    "# Assignment with Weighted User-Profile"
   ]
  },
  {
   "cell_type": "code",
   "execution_count": 285,
   "metadata": {
    "collapsed": false
   },
   "outputs": [
    {
     "data": {
      "text/html": [
       "<div>\n",
       "<table border=\"1\" class=\"dataframe\">\n",
       "  <thead>\n",
       "    <tr style=\"text-align: right;\">\n",
       "      <th></th>\n",
       "      <th>userId</th>\n",
       "      <th>movieId</th>\n",
       "      <th>rating</th>\n",
       "      <th>timestamp</th>\n",
       "    </tr>\n",
       "  </thead>\n",
       "  <tbody>\n",
       "    <tr>\n",
       "      <th>0</th>\n",
       "      <td>12882</td>\n",
       "      <td>1</td>\n",
       "      <td>4.0</td>\n",
       "      <td>1147195252</td>\n",
       "    </tr>\n",
       "    <tr>\n",
       "      <th>1</th>\n",
       "      <td>12882</td>\n",
       "      <td>32</td>\n",
       "      <td>3.5</td>\n",
       "      <td>1147195307</td>\n",
       "    </tr>\n",
       "    <tr>\n",
       "      <th>2</th>\n",
       "      <td>12882</td>\n",
       "      <td>47</td>\n",
       "      <td>5.0</td>\n",
       "      <td>1147195343</td>\n",
       "    </tr>\n",
       "    <tr>\n",
       "      <th>3</th>\n",
       "      <td>12882</td>\n",
       "      <td>50</td>\n",
       "      <td>5.0</td>\n",
       "      <td>1147185499</td>\n",
       "    </tr>\n",
       "    <tr>\n",
       "      <th>4</th>\n",
       "      <td>12882</td>\n",
       "      <td>110</td>\n",
       "      <td>4.5</td>\n",
       "      <td>1147195239</td>\n",
       "    </tr>\n",
       "  </tbody>\n",
       "</table>\n",
       "</div>"
      ],
      "text/plain": [
       "   userId  movieId  rating   timestamp\n",
       "0   12882        1     4.0  1147195252\n",
       "1   12882       32     3.5  1147195307\n",
       "2   12882       47     5.0  1147195343\n",
       "3   12882       50     5.0  1147185499\n",
       "4   12882      110     4.5  1147195239"
      ]
     },
     "execution_count": 285,
     "metadata": {},
     "output_type": "execute_result"
    }
   ],
   "source": [
    "Ratings.head()"
   ]
  },
  {
   "cell_type": "code",
   "execution_count": 294,
   "metadata": {
    "collapsed": true
   },
   "outputs": [],
   "source": [
    "#minus average of user's personalized rating-score\n",
    "personal_avg_score = Ratings.groupby(['userId'])[['rating']].mean().reset_index().rename(columns={'rating':'avg_rating'})"
   ]
  },
  {
   "cell_type": "code",
   "execution_count": 307,
   "metadata": {
    "collapsed": false
   },
   "outputs": [],
   "source": [
    "Rating_Avg = pd.merge(Ratings,personal_avg_score,on = 'userId',how = 'inner')\n",
    "Rating_Avg['weight']=Rating_Avg.rating - Rating_Avg.avg_rating\n",
    "user_movie_weight = pd.merge(TF,Rating_Avg,on='movieId',how='inner',sort=False)\n",
    "user_movie_weight['TAG_WT_WTD']=user_movie_weight['TAG_WT']*user_movie_weight['weight']"
   ]
  },
  {
   "cell_type": "code",
   "execution_count": 320,
   "metadata": {
    "collapsed": false
   },
   "outputs": [],
   "source": [
    "user_tag_pref2 = user_movie_weight.groupby(['tag','userId'],as_index=False, sort =False).sum().rename(columns = {\n",
    "        'TAG_WT_WTD': 'tag_pref'})[['tag','userId','tag_pref']]\n",
    " "
   ]
  },
  {
   "cell_type": "code",
   "execution_count": 324,
   "metadata": {
    "collapsed": false
   },
   "outputs": [],
   "source": [
    "get_2=pd.merge(TF,user_tag_pref2,on='tag',how='left',sort=False)\n",
    "get_2['tag_pref']=get_2['tag_pref'].fillna(0)\n",
    "get_2['tag_value'] = get_2['TAG_WT']*get_1['tag_pref']\n",
    "get_movie_pre_score2 = get_2.groupby(['movieId','userId'])[['sq_TAG_WT']].sum().rename(columns = {\n",
    "                'sq_TAG_WT': 'sq_TAG_Val'}).reset_index()"
   ]
  },
  {
   "cell_type": "code",
   "execution_count": 325,
   "metadata": {
    "collapsed": true
   },
   "outputs": [],
   "source": [
    "get_movie_pre_score2['TAG_WT_VAL'] = np.sqrt(get_movie_pre_score2['sq_TAG_Val'])\n",
    "user_tag_pref2['sq_tag_pref'] = np.square(user_tag_pref2['tag_pref'])\n",
    "get_user_score2=user_tag_pref2.groupby(['userId'])[['sq_tag_pref']].sum().rename(columns={'sq_tag_pref':'sq_tag_pre_val'}).reset_index()\n",
    "get_user_score2['tag_pre_val'] = np.sqrt(get_user_score2['sq_tag_pre_val'])"
   ]
  },
  {
   "cell_type": "code",
   "execution_count": 326,
   "metadata": {
    "collapsed": true
   },
   "outputs": [],
   "source": [
    "user_movie_rating2 = get_2.groupby(['userId','movieId'])[['tag_value']].sum().rename(columns = {\n",
    "                'tag_value': 'Rating'}).reset_index()\n",
    "user_movie_rating2 = pd.merge(user_movie_rating2,get_movie_pre_score2,on=['userId','movieId'],how='inner')\n",
    "user_movie_rating2 = pd.merge(user_movie_rating2,get_user_score2,on='userId',how='inner')"
   ]
  },
  {
   "cell_type": "code",
   "execution_count": 328,
   "metadata": {
    "collapsed": false
   },
   "outputs": [],
   "source": [
    "#user_movie_rating['TAG_WT_VAL']*\n",
    "user_movie_rating2['Rating'] =user_movie_rating2['Rating']/(user_movie_rating2['tag_pre_val'])\n",
    "tag_merge_all2=user_movie_rating2[['userId','movieId','Rating']]"
   ]
  },
  {
   "cell_type": "code",
   "execution_count": 330,
   "metadata": {
    "collapsed": false
   },
   "outputs": [],
   "source": [
    "#tag_merge_all2"
   ]
  },
  {
   "cell_type": "code",
   "execution_count": 342,
   "metadata": {
    "collapsed": false
   },
   "outputs": [],
   "source": [
    "#tag_merge_all2.head()"
   ]
  }
 ],
 "metadata": {
  "kernelspec": {
   "display_name": "Python 2",
   "language": "python",
   "name": "python2"
  },
  "language_info": {
   "codemirror_mode": {
    "name": "ipython",
    "version": 2
   },
   "file_extension": ".py",
   "mimetype": "text/x-python",
   "name": "python",
   "nbconvert_exporter": "python",
   "pygments_lexer": "ipython2",
   "version": "2.7.12"
  }
 },
 "nbformat": 4,
 "nbformat_minor": 2
}
