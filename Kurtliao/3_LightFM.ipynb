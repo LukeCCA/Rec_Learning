{
 "cells": [
  {
   "cell_type": "code",
   "execution_count": 125,
   "metadata": {
    "collapsed": false
   },
   "outputs": [],
   "source": [
    "# -*- encoding: utf-8 j-*-\n",
    "from lightfm import LightFM\n",
    "from lightfm.datasets import fetch_movielens\n",
    "from lightfm.evaluation import precision_at_k"
   ]
  },
  {
   "cell_type": "code",
   "execution_count": 242,
   "metadata": {
    "collapsed": false
   },
   "outputs": [],
   "source": [
    "## from lightfm import LightFM\n",
    "from lightfm.datasets import fetch_movielens\n",
    "from lightfm.evaluation import precision_at_k\n",
    "from lightfm.evaluation import auc_score\n",
    "# Load the MovieLens 100k dataset. Only five\n",
    "# star ratings are treated as positive.\n",
    "data = fetch_movielens(min_rating=5.0)\n",
    "\n",
    "# Instantiate and train the model\n",
    "model = LightFM(loss='warp')\n",
    "model.fit(data['train'], epochs=30, num_threads=2)\n",
    "\n",
    "# Evaluate the trained model\n",
    "test_precision = precision_at_k(model, data['test'], k=2).mean()\n",
    "train_precision = precision_at_k(model, data['train'], k=5).mean()\n",
    "train_auc = auc_score(model, data['train']).mean()\n",
    "test_auc = auc_score(model, data['test']).mean()"
   ]
  },
  {
   "cell_type": "code",
   "execution_count": 281,
   "metadata": {
    "collapsed": false
   },
   "outputs": [
    {
     "name": "stdout",
     "output_type": "stream",
     "text": [
      "fetch_movielens\n"
     ]
    }
   ],
   "source": [
    "print fetch_movielens.func_name"
   ]
  },
  {
   "cell_type": "code",
   "execution_count": 276,
   "metadata": {
    "collapsed": false
   },
   "outputs": [
    {
     "name": "stdout",
     "output_type": "stream",
     "text": [
      "  (0, 0)\t5.0\n",
      "  (0, 5)\t5.0\n",
      "  (0, 8)\t5.0\n",
      "  (0, 11)\t5.0\n",
      "  (0, 12)\t5.0\n",
      "  (0, 13)\t5.0\n",
      "  (0, 14)\t5.0\n",
      "  (0, 15)\t5.0\n",
      "  (0, 18)\t5.0\n",
      "  (0, 31)\t5.0\n",
      "  (0, 41)\t5.0\n",
      "  (0, 43)\t5.0\n",
      "  (0, 44)\t5.0\n",
      "  (0, 47)\t5.0\n",
      "  (0, 49)\t5.0\n",
      "  (0, 54)\t5.0\n",
      "  (0, 56)\t5.0\n",
      "  (0, 58)\t5.0\n",
      "  (0, 59)\t5.0\n",
      "  (0, 63)\t5.0\n",
      "  (0, 80)\t5.0\n",
      "  (0, 81)\t5.0\n",
      "  (0, 85)\t5.0\n",
      "  (0, 86)\t5.0\n",
      "  (0, 88)\t5.0\n",
      "  :\t:\n",
      "  (942, 78)\t5.0\n",
      "  (942, 91)\t5.0\n",
      "  (942, 97)\t5.0\n",
      "  (942, 99)\t5.0\n",
      "  (942, 126)\t5.0\n",
      "  (942, 172)\t5.0\n",
      "  (942, 181)\t5.0\n",
      "  (942, 183)\t5.0\n",
      "  (942, 186)\t5.0\n",
      "  (942, 193)\t5.0\n",
      "  (942, 195)\t5.0\n",
      "  (942, 200)\t5.0\n",
      "  (942, 204)\t5.0\n",
      "  (942, 232)\t5.0\n",
      "  (942, 238)\t5.0\n",
      "  (942, 281)\t5.0\n",
      "  (942, 470)\t5.0\n",
      "  (942, 474)\t5.0\n",
      "  (942, 484)\t5.0\n",
      "  (942, 507)\t5.0\n",
      "  (942, 613)\t5.0\n",
      "  (942, 671)\t5.0\n",
      "  (942, 720)\t5.0\n",
      "  (942, 927)\t5.0\n",
      "  (942, 942)\t5.0\n"
     ]
    }
   ],
   "source": [
    "print data['train'].tocsr()"
   ]
  },
  {
   "cell_type": "code",
   "execution_count": 245,
   "metadata": {
    "collapsed": false
   },
   "outputs": [],
   "source": [
    "#precision_at_k(model, data['train'], k=5)"
   ]
  },
  {
   "cell_type": "code",
   "execution_count": 222,
   "metadata": {
    "collapsed": false,
    "scrolled": true
   },
   "outputs": [],
   "source": [
    "#print data['train']"
   ]
  },
  {
   "cell_type": "code",
   "execution_count": 218,
   "metadata": {
    "collapsed": false
   },
   "outputs": [
    {
     "ename": "AttributeError",
     "evalue": "head not found",
     "output_type": "error",
     "traceback": [
      "\u001b[0;31m---------------------------------------------------------------------------\u001b[0m",
      "\u001b[0;31mAttributeError\u001b[0m                            Traceback (most recent call last)",
      "\u001b[0;32m<ipython-input-218-441a92bcca6c>\u001b[0m in \u001b[0;36m<module>\u001b[0;34m()\u001b[0m\n\u001b[0;32m----> 1\u001b[0;31m \u001b[0mdata\u001b[0m\u001b[0;34m[\u001b[0m\u001b[0;34m'train'\u001b[0m\u001b[0;34m]\u001b[0m\u001b[0;34m.\u001b[0m\u001b[0mhead\u001b[0m\u001b[0;34m(\u001b[0m\u001b[0;34m)\u001b[0m\u001b[0;34m\u001b[0m\u001b[0m\n\u001b[0m",
      "\u001b[0;32m/usr/local/lib/python2.7/site-packages/scipy/sparse/base.pyc\u001b[0m in \u001b[0;36m__getattr__\u001b[0;34m(self, attr)\u001b[0m\n\u001b[1;32m    574\u001b[0m             \u001b[0;32mreturn\u001b[0m \u001b[0mself\u001b[0m\u001b[0;34m.\u001b[0m\u001b[0mgetnnz\u001b[0m\u001b[0;34m(\u001b[0m\u001b[0;34m)\u001b[0m\u001b[0;34m\u001b[0m\u001b[0m\n\u001b[1;32m    575\u001b[0m         \u001b[0;32melse\u001b[0m\u001b[0;34m:\u001b[0m\u001b[0;34m\u001b[0m\u001b[0m\n\u001b[0;32m--> 576\u001b[0;31m             \u001b[0;32mraise\u001b[0m \u001b[0mAttributeError\u001b[0m\u001b[0;34m(\u001b[0m\u001b[0mattr\u001b[0m \u001b[0;34m+\u001b[0m \u001b[0;34m\" not found\"\u001b[0m\u001b[0;34m)\u001b[0m\u001b[0;34m\u001b[0m\u001b[0m\n\u001b[0m\u001b[1;32m    577\u001b[0m \u001b[0;34m\u001b[0m\u001b[0m\n\u001b[1;32m    578\u001b[0m     \u001b[0;32mdef\u001b[0m \u001b[0mtranspose\u001b[0m\u001b[0;34m(\u001b[0m\u001b[0mself\u001b[0m\u001b[0;34m,\u001b[0m \u001b[0maxes\u001b[0m\u001b[0;34m=\u001b[0m\u001b[0mNone\u001b[0m\u001b[0;34m,\u001b[0m \u001b[0mcopy\u001b[0m\u001b[0;34m=\u001b[0m\u001b[0mFalse\u001b[0m\u001b[0;34m)\u001b[0m\u001b[0;34m:\u001b[0m\u001b[0;34m\u001b[0m\u001b[0m\n",
      "\u001b[0;31mAttributeError\u001b[0m: head not found"
     ]
    }
   ],
   "source": [
    "model = LightFM(learning_rate=0.05, loss='bpr')\n",
    "model.fit(train, epochs=10)\n",
    "\n",
    "train_precision = precision_at_k(model, train, k=10).mean()\n",
    "test_precision = precision_at_k(model, test, k=10).mean()"
   ]
  },
  {
   "cell_type": "code",
   "execution_count": 28,
   "metadata": {
    "collapsed": false
   },
   "outputs": [],
   "source": [
    "import pandas as pd"
   ]
  },
  {
   "cell_type": "code",
   "execution_count": 32,
   "metadata": {
    "collapsed": false
   },
   "outputs": [],
   "source": [
    "import os\n",
    "import zipfile\n",
    "import csv\n",
    "\n",
    "import requests\n",
    "\n",
    "\n",
    "def _download(url, dest_path):\n",
    "    req = requests.get(url, stream=True)\n",
    "    req.raise_for_status()\n",
    "    with open(dest_path, \"wb\") as fd:\n",
    "        for chunk in req.iter_content(chunk_size=2 ** 20):\n",
    "            fd.write(chunk)"
   ]
  },
  {
   "cell_type": "code",
   "execution_count": 124,
   "metadata": {
    "collapsed": false
   },
   "outputs": [],
   "source": [
    "\n",
    "\n",
    "def get_data():\n",
    "\n",
    "    ratings_url = (\"http://www2.informatik.uni-freiburg.de/\" \"~cziegler/BX/BX-CSV-Dump.zip\")\n",
    "\n",
    "    if not os.path.exists(\"data\"):\n",
    "        os.makedirs(\"data\")\n",
    "\n",
    "        _download(ratings_url, \"data/data.zip\")\n",
    "\n",
    "    with zipfile.ZipFile(\"data/data.zip\") as archive:\n",
    "        return (\n",
    "            csv.DictReader(\n",
    "                (x.decode(\"utf-8\", \"ignore\") for x in archive.open(\"BX-Book-Ratings.csv\")),\n",
    "                delimiter=\";\",\n",
    "            ),\n",
    "            csv.DictReader(\n",
    "                (x.decode(\"utf-8\", \"ignore\") for x in archive.open(\"BX-Books.csv\")), delimiter=\";\"\n",
    "            ),\n",
    "        )\n",
    "\n",
    "\n",
    "\n",
    "def get_ratings():\n",
    "\n",
    "    return get_data()[0]\n",
    "def get_book_features():\n",
    "\n",
    "    return get_data()[1]"
   ]
  },
  {
   "cell_type": "code",
   "execution_count": 193,
   "metadata": {
    "collapsed": true
   },
   "outputs": [],
   "source": [
    "import json\n",
    "from itertools import islice\n",
    "\n",
    "ratings, book_features = get_data()"
   ]
  },
  {
   "cell_type": "code",
   "execution_count": 212,
   "metadata": {
    "collapsed": false
   },
   "outputs": [
    {
     "name": "stdout",
     "output_type": "stream",
     "text": [
      "{\n",
      "    \"Publisher\": \"Oxford University Press\", \n",
      "    \"Book-Author\": \"Mark P. O. Morford\", \n",
      "    \"Image-URL-L\": \"http://images.amazon.com/images/P/0195153448.01.LZZZZZZZ.jpg\", \n",
      "    \"ISBN\": \"0195153448\", \n",
      "    \"Year-Of-Publication\": \"2002\", \n",
      "    \"Book-Title\": \"Classical Mythology\", \n",
      "    \"Image-URL-M\": \"http://images.amazon.com/images/P/0195153448.01.MZZZZZZZ.jpg\", \n",
      "    \"Image-URL-S\": \"http://images.amazon.com/images/P/0195153448.01.THUMBZZZ.jpg\"\n",
      "}\n",
      "{\n",
      "    \"Publisher\": \"HarperFlamingo Canada\", \n",
      "    \"Book-Author\": \"Richard Bruce Wright\", \n",
      "    \"Image-URL-L\": \"http://images.amazon.com/images/P/0002005018.01.LZZZZZZZ.jpg\", \n",
      "    \"ISBN\": \"0002005018\", \n",
      "    \"Year-Of-Publication\": \"2001\", \n",
      "    \"Book-Title\": \"Clara Callan\", \n",
      "    \"Image-URL-M\": \"http://images.amazon.com/images/P/0002005018.01.MZZZZZZZ.jpg\", \n",
      "    \"Image-URL-S\": \"http://images.amazon.com/images/P/0002005018.01.THUMBZZZ.jpg\"\n",
      "}\n",
      "{\n",
      "    \"Publisher\": \"HarperPerennial\", \n",
      "    \"Book-Author\": \"Carlo D'Este\", \n",
      "    \"Image-URL-L\": \"http://images.amazon.com/images/P/0060973129.01.LZZZZZZZ.jpg\", \n",
      "    \"ISBN\": \"0060973129\", \n",
      "    \"Year-Of-Publication\": \"1991\", \n",
      "    \"Book-Title\": \"Decision in Normandy\", \n",
      "    \"Image-URL-M\": \"http://images.amazon.com/images/P/0060973129.01.MZZZZZZZ.jpg\", \n",
      "    \"Image-URL-S\": \"http://images.amazon.com/images/P/0060973129.01.THUMBZZZ.jpg\"\n",
      "}\n",
      "{\n",
      "    \"Publisher\": \"Farrar Straus Giroux\", \n",
      "    \"Book-Author\": \"Gina Bari Kolata\", \n",
      "    \"Image-URL-L\": \"http://images.amazon.com/images/P/0374157065.01.LZZZZZZZ.jpg\", \n",
      "    \"ISBN\": \"0374157065\", \n",
      "    \"Year-Of-Publication\": \"1999\", \n",
      "    \"Book-Title\": \"Flu: The Story of the Great Influenza Pandemic of 1918 and the Search for the Virus That Caused It\", \n",
      "    \"Image-URL-M\": \"http://images.amazon.com/images/P/0374157065.01.MZZZZZZZ.jpg\", \n",
      "    \"Image-URL-S\": \"http://images.amazon.com/images/P/0374157065.01.THUMBZZZ.jpg\"\n",
      "}\n",
      "{\n",
      "    \"Publisher\": \"W. W. Norton &amp; Company\", \n",
      "    \"Book-Author\": \"E. J. W. Barber\", \n",
      "    \"Image-URL-L\": \"http://images.amazon.com/images/P/0393045218.01.LZZZZZZZ.jpg\", \n",
      "    \"ISBN\": \"0393045218\", \n",
      "    \"Year-Of-Publication\": \"1999\", \n",
      "    \"Book-Title\": \"The Mummies of Urumchi\", \n",
      "    \"Image-URL-M\": \"http://images.amazon.com/images/P/0393045218.01.MZZZZZZZ.jpg\", \n",
      "    \"Image-URL-S\": \"http://images.amazon.com/images/P/0393045218.01.THUMBZZZ.jpg\"\n",
      "}\n",
      "{\n",
      "    \"Publisher\": \"Putnam Pub Group\", \n",
      "    \"Book-Author\": \"Amy Tan\", \n",
      "    \"Image-URL-L\": \"http://images.amazon.com/images/P/0399135782.01.LZZZZZZZ.jpg\", \n",
      "    \"ISBN\": \"0399135782\", \n",
      "    \"Year-Of-Publication\": \"1991\", \n",
      "    \"Book-Title\": \"The Kitchen God's Wife\", \n",
      "    \"Image-URL-M\": \"http://images.amazon.com/images/P/0399135782.01.MZZZZZZZ.jpg\", \n",
      "    \"Image-URL-S\": \"http://images.amazon.com/images/P/0399135782.01.THUMBZZZ.jpg\"\n",
      "}\n",
      "{\n",
      "    \"Publisher\": \"Berkley Publishing Group\", \n",
      "    \"Book-Author\": \"Robert Cowley\", \n",
      "    \"Image-URL-L\": \"http://images.amazon.com/images/P/0425176428.01.LZZZZZZZ.jpg\", \n",
      "    \"ISBN\": \"0425176428\", \n",
      "    \"Year-Of-Publication\": \"2000\", \n",
      "    \"Book-Title\": \"What If?: The World's Foremost Military Historians Imagine What Might Have Been\", \n",
      "    \"Image-URL-M\": \"http://images.amazon.com/images/P/0425176428.01.MZZZZZZZ.jpg\", \n",
      "    \"Image-URL-S\": \"http://images.amazon.com/images/P/0425176428.01.THUMBZZZ.jpg\"\n",
      "}\n",
      "{\n",
      "    \"Publisher\": \"Audioworks\", \n",
      "    \"Book-Author\": \"Scott Turow\", \n",
      "    \"Image-URL-L\": \"http://images.amazon.com/images/P/0671870432.01.LZZZZZZZ.jpg\", \n",
      "    \"ISBN\": \"0671870432\", \n",
      "    \"Year-Of-Publication\": \"1993\", \n",
      "    \"Book-Title\": \"PLEADING GUILTY\", \n",
      "    \"Image-URL-M\": \"http://images.amazon.com/images/P/0671870432.01.MZZZZZZZ.jpg\", \n",
      "    \"Image-URL-S\": \"http://images.amazon.com/images/P/0671870432.01.THUMBZZZ.jpg\"\n",
      "}\n",
      "{\n",
      "    \"Publisher\": \"Random House\", \n",
      "    \"Book-Author\": \"David Cordingly\", \n",
      "    \"Image-URL-L\": \"http://images.amazon.com/images/P/0679425608.01.LZZZZZZZ.jpg\", \n",
      "    \"ISBN\": \"0679425608\", \n",
      "    \"Year-Of-Publication\": \"1996\", \n",
      "    \"Book-Title\": \"Under the Black Flag: The Romance and the Reality of Life Among the Pirates\", \n",
      "    \"Image-URL-M\": \"http://images.amazon.com/images/P/0679425608.01.MZZZZZZZ.jpg\", \n",
      "    \"Image-URL-S\": \"http://images.amazon.com/images/P/0679425608.01.THUMBZZZ.jpg\"\n",
      "}\n",
      "{\n",
      "    \"Publisher\": \"Scribner\", \n",
      "    \"Book-Author\": \"Ann Beattie\", \n",
      "    \"Image-URL-L\": \"http://images.amazon.com/images/P/074322678X.01.LZZZZZZZ.jpg\", \n",
      "    \"ISBN\": \"074322678X\", \n",
      "    \"Year-Of-Publication\": \"2002\", \n",
      "    \"Book-Title\": \"Where You'll Find Me: And Other Stories\", \n",
      "    \"Image-URL-M\": \"http://images.amazon.com/images/P/074322678X.01.MZZZZZZZ.jpg\", \n",
      "    \"Image-URL-S\": \"http://images.amazon.com/images/P/074322678X.01.THUMBZZZ.jpg\"\n",
      "}\n"
     ]
    }
   ],
   "source": [
    "for line in islice(book_features, 10):\n",
    "    print(json.dumps(line, indent=4))"
   ]
  },
  {
   "cell_type": "code",
   "execution_count": 209,
   "metadata": {
    "collapsed": false
   },
   "outputs": [
    {
     "data": {
      "text/plain": [
       "<943x1682 sparse matrix of type '<type 'numpy.float32'>'\n",
       "\twith 19048 stored elements in COOrdinate format>"
      ]
     },
     "execution_count": 209,
     "metadata": {},
     "output_type": "execute_result"
    }
   ],
   "source": [
    "data['train']"
   ]
  },
  {
   "cell_type": "code",
   "execution_count": 84,
   "metadata": {
    "collapsed": true
   },
   "outputs": [],
   "source": [
    "rating_temp = get_ratings()"
   ]
  },
  {
   "cell_type": "code",
   "execution_count": 87,
   "metadata": {
    "collapsed": false
   },
   "outputs": [],
   "source": [
    "#rating_temp[0]"
   ]
  },
  {
   "cell_type": "code",
   "execution_count": null,
   "metadata": {
    "collapsed": true
   },
   "outputs": [],
   "source": []
  },
  {
   "cell_type": "code",
   "execution_count": 202,
   "metadata": {
    "collapsed": false
   },
   "outputs": [],
   "source": [
    "from lightfm.data import Dataset\n",
    "#u need decode \n",
    "dataset = Dataset()\n",
    "dataset.fit((x['User-ID'] for x in ratings),\n",
    "            (x['ISBN'] for x in ratings))"
   ]
  },
  {
   "cell_type": "code",
   "execution_count": 203,
   "metadata": {
    "collapsed": false
   },
   "outputs": [
    {
     "name": "stdout",
     "output_type": "stream",
     "text": [
      "Num users: 33851, num_items 0.\n"
     ]
    }
   ],
   "source": [
    "num_users, num_items = dataset.interactions_shape()\n",
    "print('Num users: {}, num_items {}.'.format(num_users, num_items))"
   ]
  },
  {
   "cell_type": "code",
   "execution_count": 64,
   "metadata": {
    "collapsed": false
   },
   "outputs": [],
   "source": [
    "for i in (x['User-ID'] for x in ratings):\n",
    "    print i.values"
   ]
  }
 ],
 "metadata": {
  "kernelspec": {
   "display_name": "Python 2",
   "language": "python",
   "name": "python2"
  },
  "language_info": {
   "codemirror_mode": {
    "name": "ipython",
    "version": 2
   },
   "file_extension": ".py",
   "mimetype": "text/x-python",
   "name": "python",
   "nbconvert_exporter": "python",
   "pygments_lexer": "ipython2",
   "version": "2.7.12"
  }
 },
 "nbformat": 4,
 "nbformat_minor": 2
}
