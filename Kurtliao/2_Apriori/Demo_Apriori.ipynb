{
 "cells": [
  {
   "cell_type": "code",
   "execution_count": 1,
   "metadata": {
    "collapsed": true
   },
   "outputs": [],
   "source": [
    "import pandas as pd\n",
    "import numpy as np\n",
    "import math\n"
   ]
  },
  {
   "cell_type": "code",
   "execution_count": null,
   "metadata": {
    "collapsed": true
   },
   "outputs": [],
   "source": [
    "model"
   ]
  },
  {
   "cell_type": "code",
   "execution_count": null,
   "metadata": {
    "collapsed": true
   },
   "outputs": [],
   "source": []
  },
  {
   "cell_type": "code",
   "execution_count": 3,
   "metadata": {
    "collapsed": true
   },
   "outputs": [],
   "source": [
    "path = '~/Documents/Python/2018/FM/1_ContentBase/'"
   ]
  },
  {
   "cell_type": "code",
   "execution_count": 4,
   "metadata": {
    "collapsed": false
   },
   "outputs": [],
   "source": [
    "all_ratings=pd.read_csv(path+\"ratings.csv\")"
   ]
  },
  {
   "cell_type": "code",
   "execution_count": 5,
   "metadata": {
    "collapsed": false
   },
   "outputs": [
    {
     "name": "stdout",
     "output_type": "stream",
     "text": [
      "('/n Structure of Data:', '\\nRows X Columns: ', (264505, 4), '\\n\\nFeatures and value:\\n', userId       [[12882.0, 320.0, 121987.0, 62046.0, 18127.0, ...\n",
      "movieId      [[1.0, 32.0, 47.0, 50.0, 110.0, 150.0, 158.0, ...\n",
      "rating       [[4.0, 3.5, 5.0, 4.5, 2.0, 2.5, 3.0, 0.5, 1.5,...\n",
      "timestamp    [[1147195252.0, 1147195307.0, 1147195343.0, 11...\n",
      "dtype: object)\n"
     ]
    }
   ],
   "source": [
    "import pandas as pd \n",
    "def rstr(df):\n",
    "    print('/n'' Structure of Data:','\\n''Rows X Columns: ',df.shape,'\\n'\n",
    "        '\\n''Features and value:''\\n',df.apply(lambda x:[x.unique()]))\n",
    "rstr(all_ratings)"
   ]
  },
  {
   "cell_type": "code",
   "execution_count": 6,
   "metadata": {
    "collapsed": false
   },
   "outputs": [
    {
     "data": {
      "text/html": [
       "<div>\n",
       "<table border=\"1\" class=\"dataframe\">\n",
       "  <thead>\n",
       "    <tr style=\"text-align: right;\">\n",
       "      <th></th>\n",
       "      <th>userId</th>\n",
       "      <th>movieId</th>\n",
       "      <th>rating</th>\n",
       "      <th>timestamp</th>\n",
       "    </tr>\n",
       "  </thead>\n",
       "  <tbody>\n",
       "    <tr>\n",
       "      <th>0</th>\n",
       "      <td>12882</td>\n",
       "      <td>1</td>\n",
       "      <td>4.0</td>\n",
       "      <td>1147195252</td>\n",
       "    </tr>\n",
       "    <tr>\n",
       "      <th>1</th>\n",
       "      <td>12882</td>\n",
       "      <td>32</td>\n",
       "      <td>3.5</td>\n",
       "      <td>1147195307</td>\n",
       "    </tr>\n",
       "    <tr>\n",
       "      <th>2</th>\n",
       "      <td>12882</td>\n",
       "      <td>47</td>\n",
       "      <td>5.0</td>\n",
       "      <td>1147195343</td>\n",
       "    </tr>\n",
       "    <tr>\n",
       "      <th>3</th>\n",
       "      <td>12882</td>\n",
       "      <td>50</td>\n",
       "      <td>5.0</td>\n",
       "      <td>1147185499</td>\n",
       "    </tr>\n",
       "    <tr>\n",
       "      <th>4</th>\n",
       "      <td>12882</td>\n",
       "      <td>110</td>\n",
       "      <td>4.5</td>\n",
       "      <td>1147195239</td>\n",
       "    </tr>\n",
       "  </tbody>\n",
       "</table>\n",
       "</div>"
      ],
      "text/plain": [
       "   userId  movieId  rating   timestamp\n",
       "0   12882        1     4.0  1147195252\n",
       "1   12882       32     3.5  1147195307\n",
       "2   12882       47     5.0  1147195343\n",
       "3   12882       50     5.0  1147185499\n",
       "4   12882      110     4.5  1147195239"
      ]
     },
     "execution_count": 6,
     "metadata": {},
     "output_type": "execute_result"
    }
   ],
   "source": [
    "all_ratings.head()"
   ]
  },
  {
   "cell_type": "code",
   "execution_count": 7,
   "metadata": {
    "collapsed": false
   },
   "outputs": [
    {
     "name": "stderr",
     "output_type": "stream",
     "text": [
      "/usr/local/lib/python2.7/site-packages/ipykernel/__main__.py:5: SettingWithCopyWarning: \n",
      "A value is trying to be set on a copy of a slice from a DataFrame.\n",
      "Try using .loc[row_indexer,col_indexer] = value instead\n",
      "\n",
      "See the caveats in the documentation: http://pandas.pydata.org/pandas-docs/stable/indexing.html#indexing-view-versus-copy\n"
     ]
    }
   ],
   "source": [
    "#transform data to transection\n",
    "all_ratings[\"Favorable\"] = all_ratings[\"rating\"] > 3\n",
    "#two_ratings=all_ratings\n",
    "two_ratings=all_ratings[all_ratings['userId'].isin(range(3000))]\n",
    "two_ratings[\"Datetime\"] = pd.to_datetime(two_ratings['timestamp'], unit='s')\n",
    "favorable_ratings = two_ratings[two_ratings[\"Favorable\"]]\n",
    "favorable_reviews_by_users = dict((k, frozenset(v.values)) \n",
    "    for k, v in favorable_ratings.groupby(\"userId\")[\"movieId\"])\n",
    "num_favorable_by_movie = two_ratings[[\"movieId\", \"Favorable\"]].groupby(\"movieId\").sum()     "
   ]
  },
  {
   "cell_type": "code",
   "execution_count": 8,
   "metadata": {
    "collapsed": false
   },
   "outputs": [],
   "source": [
    "#two_ratings.userId.unique()"
   ]
  },
  {
   "cell_type": "code",
   "execution_count": 9,
   "metadata": {
    "collapsed": false
   },
   "outputs": [
    {
     "name": "stdout",
     "output_type": "stream",
     "text": [
      "There are 25 movies with more than 12.0 favorable reviews\n"
     ]
    }
   ],
   "source": [
    "frequent_itemsets = {}\n",
    "# more then 30% is the popular movie\n",
    "min_num_req=len(two_ratings.userId.unique())*0.6\n",
    "frequent_itemsets[1]=dict((frozenset((movie_id,)),row[\"Favorable\"])\n",
    "    for movie_id, row in num_favorable_by_movie.iterrows()\n",
    "    if row[\"Favorable\"] > min_num_req)\n",
    "print(\"There are {} movies with more than {} favorable reviews\".format(len(frequent_itemsets[1]), min_num_req))\n",
    "#There are 16 movies with more than 50 favorable reviews"
   ]
  },
  {
   "cell_type": "code",
   "execution_count": 10,
   "metadata": {
    "collapsed": false
   },
   "outputs": [],
   "source": [
    "#frequent_itemsets[1]"
   ]
  },
  {
   "cell_type": "code",
   "execution_count": 11,
   "metadata": {
    "collapsed": false
   },
   "outputs": [],
   "source": [
    "#frequent_itemsets"
   ]
  },
  {
   "cell_type": "code",
   "execution_count": 12,
   "metadata": {
    "collapsed": true
   },
   "outputs": [],
   "source": [
    "from collections import defaultdict\n",
    "def find_frequent_itemsets(favorable_reviews_by_users, k_1_itemsets, min_num_req):\n",
    "    counts = defaultdict(int)\n",
    "    for user, reviews in favorable_reviews_by_users.items():\n",
    "        for itemset in k_1_itemsets:\n",
    "            if itemset.issubset(reviews):\n",
    "                for other_reviewed_movie in reviews - itemset:\n",
    "                    current_superset = itemset | frozenset((other_reviewed_movie,))\n",
    "                    counts[current_superset] += 1\n",
    "    return dict([(itemset, frequency) for itemset, frequency in counts.items() if frequency >= min_num_req])\n",
    " "
   ]
  },
  {
   "cell_type": "code",
   "execution_count": 13,
   "metadata": {
    "collapsed": false
   },
   "outputs": [
    {
     "name": "stdout",
     "output_type": "stream",
     "text": [
      "I found 324 frequent itemsets of length 2\n",
      "I found 2915 frequent itemsets of length 3\n"
     ]
    }
   ],
   "source": [
    "for k in range(2, 4):\n",
    "    # Generate candidates of length k, using the frequent itemsets of length k-1\n",
    "    # Only store the frequent itemsets\n",
    "    cur_frequent_itemsets = find_frequent_itemsets(favorable_reviews_by_users, frequent_itemsets[k-1],min_num_req)\n",
    "    if len(cur_frequent_itemsets)==0:\n",
    "        print(\"Did not find any frequent itemsets of length {}\".format(k))\n",
    "        sys.stdout.flush()\n",
    "        break\n",
    "    else:\n",
    "        print(\"I found {} frequent itemsets of length {}\".format(len(cur_frequent_itemsets), k))\n",
    "        frequent_itemsets[k] = cur_frequent_itemsets"
   ]
  },
  {
   "cell_type": "code",
   "execution_count": 14,
   "metadata": {
    "collapsed": false
   },
   "outputs": [
    {
     "name": "stdout",
     "output_type": "stream",
     "text": [
      "There are 9418 candidate rules\n",
      "[(frozenset([]), 589), (frozenset([]), 1196), (frozenset([]), 593), (frozenset([]), 4306)]\n"
     ]
    }
   ],
   "source": [
    "candidate_rules = []\n",
    "for itemset_length, itemset_counts in frequent_itemsets.items():\n",
    "    for itemset in itemset_counts.keys():\n",
    "        for conclusion in itemset:\n",
    "            premise = itemset - set((conclusion,))\n",
    "            candidate_rules.append((premise, conclusion))\n",
    "print(\"There are {} candidate rules\".format(len(candidate_rules)))\n",
    "#There are 15285 candidate rules\n",
    "print(candidate_rules[:4])"
   ]
  },
  {
   "cell_type": "code",
   "execution_count": 22,
   "metadata": {
    "collapsed": false
   },
   "outputs": [
    {
     "name": "stdout",
     "output_type": "stream",
     "text": [
      "4630\n"
     ]
    }
   ],
   "source": [
    "correct_counts = defaultdict(int)\n",
    "incorrect_counts = defaultdict(int)\n",
    "for user, reviews in favorable_reviews_by_users.items():\n",
    "    for candidate_rule in candidate_rules:\n",
    "        premise, conclusion = candidate_rule\n",
    "        if premise.issubset(reviews):\n",
    "            if conclusion in reviews:\n",
    "                correct_counts[candidate_rule] += 1\n",
    "            else:\n",
    "                incorrect_counts[candidate_rule] += 1\n",
    "rule_confidence = {\n",
    "    candidate_rule: correct_counts[candidate_rule] / float(correct_counts[candidate_rule] + incorrect_counts[candidate_rule])\n",
    "              for candidate_rule in candidate_rules}\n",
    "rule_confidence = {rule: confidence for rule, confidence in rule_confidence.items() \n",
    "if confidence > 0.8}\n",
    "print(len(rule_confidence))"
   ]
  },
  {
   "cell_type": "code",
   "execution_count": 25,
   "metadata": {
    "collapsed": false
   },
   "outputs": [
    {
     "name": "stdout",
     "output_type": "stream",
     "text": [
      "Rule #1\n",
      "Rule: If a person recommends frozenset([6539, 1214]) they will also recommend 356\n",
      " - Confidence: 1.000\n",
      "\n",
      "Rule #2\n",
      "Rule: If a person recommends frozenset([4306, 527]) they will also recommend 7153\n",
      " - Confidence: 1.000\n",
      "\n",
      "Rule #3\n",
      "Rule: If a person recommends frozenset([457, 3578]) they will also recommend 5952\n",
      " - Confidence: 1.000\n",
      "\n"
     ]
    }
   ],
   "source": [
    "from operator import itemgetter\n",
    "sorted_confidence = sorted(rule_confidence.items(), key=itemgetter(1), reverse=True)\n",
    "for index in range(3):\n",
    "    print(\"Rule #{0}\".format(index + 1))\n",
    "    (premise, conclusion) = sorted_confidence[index][0]\n",
    "    print(\"Rule: If a person recommends {0} they will also recommend {1}\".format(premise, conclusion))\n",
    "    print(\" - Confidence: {0:.3f}\\n\".format(rule_confidence[(premise, conclusion)]))"
   ]
  },
  {
   "cell_type": "code",
   "execution_count": 42,
   "metadata": {
    "collapsed": false
   },
   "outputs": [
    {
     "data": {
      "text/plain": [
       "Index([u'movieId', u'title', u'genres'], dtype='object')"
      ]
     },
     "execution_count": 42,
     "metadata": {},
     "output_type": "execute_result"
    }
   ],
   "source": [
    "movie_name_data.columns"
   ]
  },
  {
   "cell_type": "code",
   "execution_count": 41,
   "metadata": {
    "collapsed": false
   },
   "outputs": [
    {
     "data": {
      "text/plain": [
       "(frozenset({1214, 6539}), 356)"
      ]
     },
     "execution_count": 41,
     "metadata": {},
     "output_type": "execute_result"
    }
   ],
   "source": [
    "sorted_confidence[0][0]"
   ]
  },
  {
   "cell_type": "code",
   "execution_count": 43,
   "metadata": {
    "collapsed": false
   },
   "outputs": [
    {
     "name": "stdout",
     "output_type": "stream",
     "text": [
      "Rule #1\n",
      "Rule: If a person recommends Pirates of the Caribbean: The Curse of the Black Pearl (2003), Alien (1979) they will also recommend Forrest Gump (1994)\n",
      " - Confidence: 1.000\n",
      "\n",
      "Rule #2\n",
      "Rule: If a person recommends Shrek (2001), Schindler's List (1993) they will also recommend Lord of the Rings: The Return of the King, The (2003)\n",
      " - Confidence: 1.000\n",
      "\n",
      "Rule #3\n",
      "Rule: If a person recommends Fugitive, The (1993), Gladiator (2000) they will also recommend Lord of the Rings: The Two Towers, The (2002)\n",
      " - Confidence: 1.000\n",
      "\n"
     ]
    }
   ],
   "source": [
    "def get_movie_name(movie_id):\n",
    "    title_object = movie_name_data[movie_name_data[\"movieId\"] == movie_id][\"title\"]\n",
    "    title = title_object.values[0]\n",
    "    return title\n",
    "movie_name_data = pd.read_csv(path+\"movies.csv\")\n",
    "#movie_name_data.columns = [\"MovieID\", \"Title\", \"Release Date\", \"Video Release\", \"IMDB\", \"\", \"Action\", \"Adventure\",\n",
    "#                           \"Animation\", \"Children's\", \"Comedy\", \"Crime\", \"Documentary\", \"Drama\", \"Fantasy\", \"Film-Noir\",\n",
    "#                           \"Horror\", \"Musical\", \"Mystery\", \"Romance\", \"Sci-Fi\", \"Thriller\", \"War\", \"Western\"]\n",
    "\n",
    "#print(movie_name_data.head())\n",
    "##SKIPPED\n",
    " \n",
    "for index in range(3):\n",
    "    print(\"Rule #{0}\".format(index + 1))\n",
    "    (premise, conclusion) = sorted_confidence[index][0]\n",
    "    premise_names = \", \".join(get_movie_name(idx) for idx in premise)\n",
    "    conclusion_name = get_movie_name(conclusion)\n",
    "    print(\"Rule: If a person recommends {0} they will also recommend {1}\".format(premise_names, conclusion_name))\n",
    "    print(\" - Confidence: {0:.3f}\\n\".format(rule_confidence[(premise, conclusion)]))\n"
   ]
  },
  {
   "cell_type": "code",
   "execution_count": 44,
   "metadata": {
    "collapsed": false
   },
   "outputs": [
    {
     "name": "stdout",
     "output_type": "stream",
     "text": [
      "4630\n"
     ]
    }
   ],
   "source": [
    "test_dataset = all_ratings[~all_ratings['userId'].isin(range(200))]\n",
    "test_favorable = test_dataset[test_dataset[\"Favorable\"]]\n",
    "test_favorable_by_users = dict((k, frozenset(v.values)) \n",
    "    for k, v in test_favorable.groupby(\"userId\")[\"movieId\"])\n",
    " \n",
    "###7.2 Count the correct instances where the premise leads to the conclusion\n",
    "correct_counts=defaultdict(int)\n",
    "incorrect_counts=defaultdict(int)\n",
    "for user, reviews in test_favorable_by_users.items():\n",
    "    for candidate_rule in candidate_rules:\n",
    "        premise,conclusion=candidate_rule\n",
    "        if premise.issubset(reviews):\n",
    "            if conclusion in reviews:\n",
    "                correct_counts[candidate_rule]+=1\n",
    "            else:\n",
    "                incorrect_counts[candidate_rule]+=1\n",
    "test_confidence = {candidate_rule:\n",
    "(correct_counts[candidate_rule] /\n",
    "    float(correct_counts[candidate_rule] + incorrect_counts[candidate_rule]))\n",
    "for candidate_rule in rule_confidence}\n",
    "print(len(test_confidence))"
   ]
  },
  {
   "cell_type": "code",
   "execution_count": 45,
   "metadata": {
    "collapsed": false
   },
   "outputs": [
    {
     "name": "stdout",
     "output_type": "stream",
     "text": [
      "Rule #1\n",
      "Rule: If a person recommends Pirates of the Caribbean: The Curse of the Black Pearl (2003), Alien (1979) they will also recommend Forrest Gump (1994)\n",
      " - Train Confidence: 1.000\n",
      " - Test Confidence: 0.784\n",
      "\n",
      "Rule #2\n",
      "Rule: If a person recommends Shrek (2001), Schindler's List (1993) they will also recommend Lord of the Rings: The Return of the King, The (2003)\n",
      " - Train Confidence: 1.000\n",
      " - Test Confidence: 0.806\n",
      "\n",
      "Rule #3\n",
      "Rule: If a person recommends Fugitive, The (1993), Gladiator (2000) they will also recommend Lord of the Rings: The Two Towers, The (2002)\n",
      " - Train Confidence: 1.000\n",
      " - Test Confidence: 0.835\n",
      "\n"
     ]
    }
   ],
   "source": [
    "for index in range(3):\n",
    "    print(\"Rule #{0}\".format(index + 1))\n",
    "    (premise, conclusion) = sorted_confidence[index][0]\n",
    "    premise_names = \", \".join(get_movie_name(idx) for idx in premise)\n",
    "    conclusion_name = get_movie_name(conclusion)\n",
    "    print(\"Rule: If a person recommends {0} they will also recommend {1}\"\n",
    "        .format(premise_names, conclusion_name))\n",
    "    print(\" - Train Confidence: {0:.3f}\".format(rule_confidence.get((premise, conclusion), -1)))\n",
    "    print(\" - Test Confidence: {0:.3f}\\n\".format(test_confidence.get((premise, conclusion), -1)))\n",
    " "
   ]
  }
 ],
 "metadata": {
  "kernelspec": {
   "display_name": "Python 2",
   "language": "python",
   "name": "python2"
  },
  "language_info": {
   "codemirror_mode": {
    "name": "ipython",
    "version": 2
   },
   "file_extension": ".py",
   "mimetype": "text/x-python",
   "name": "python",
   "nbconvert_exporter": "python",
   "pygments_lexer": "ipython2",
   "version": "2.7.12"
  }
 },
 "nbformat": 4,
 "nbformat_minor": 2
}
