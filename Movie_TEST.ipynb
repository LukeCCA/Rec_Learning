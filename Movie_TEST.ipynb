{
 "cells": [
  {
   "cell_type": "code",
   "execution_count": 6,
   "metadata": {},
   "outputs": [],
   "source": [
    "import numpy as np\n",
    "import pandas as pd\n",
    "#import load_problems\n",
    "import cPickle as pickle\n",
    "from sklearn.metrics import roc_auc_score, mean_squared_error"
   ]
  },
  {
   "cell_type": "code",
   "execution_count": 83,
   "metadata": {},
   "outputs": [],
   "source": [
    "from fastFM.mcmc import FMClassification, FMRegression\n",
    "from sklearn.preprocessing import OneHotEncoder\n",
    "from sklearn.linear_model import LogisticRegression, Ridge\n",
    "from sklearn.datasets import dump_svmlight_file\n",
    "from sklearn.model_selection import train_test_split\n",
    "from pyfm import pylibfm"
   ]
  },
  {
   "cell_type": "code",
   "execution_count": 85,
   "metadata": {},
   "outputs": [],
   "source": [
    "import sys"
   ]
  },
  {
   "cell_type": "code",
   "execution_count": 45,
   "metadata": {
    "collapsed": true
   },
   "outputs": [],
   "source": [
    "# Read in data #先不用\n",
    "def loadData(filename,path=\"ml-100k/\"):\n",
    "    data = []\n",
    "    y = []\n",
    "    users=set()\n",
    "    items=set()\n",
    "    with open(path+filename) as f:\n",
    "        for line in f:\n",
    "            (user,movieid,rating,ts)=line.split('\\t')\n",
    "            data.append({ \"user_id\": str(user), \"movie_id\": str(movieid)})\n",
    "            y.append(float(rating))\n",
    "            users.add(user)\n",
    "            items.add(movieid)\n",
    "\n",
    "    return (data, np.array(y), users, items)"
   ]
  },
  {
   "cell_type": "code",
   "execution_count": null,
   "metadata": {
    "collapsed": true
   },
   "outputs": [],
   "source": [
    "LIBFM_PATH = '/moosefs/ipython_env/python_libfm/bin/libFM'\n",
    "PYLIBFM_PATH = '/moosefs/ipython_env/python_pylibFM/'\n",
    "\n",
    "import sys\n",
    "if PYLIBFM_PATH not in sys.path:\n",
    "    sys.path.insert(0, PYLIBFM_PATH)\n",
    "import pylibfm\n"
   ]
  },
  {
   "cell_type": "code",
   "execution_count": 11,
   "metadata": {
    "collapsed": true
   },
   "outputs": [],
   "source": [
    "def fitpredict_logistic(trainX, trainY, testX, classification=True, **params):\n",
    "    encoder = OneHotEncoder(handle_unknown='ignore').fit(trainX)\n",
    "    trainX = encoder.transform(trainX)\n",
    "    testX = encoder.transform(testX)\n",
    "    if classification:\n",
    "        clf = LogisticRegression(**params)\n",
    "        clf.fit(trainX, trainY)\n",
    "        return clf.predict_proba(testX)[:, 1]\n",
    "    else:\n",
    "        clf = Ridge(**params)\n",
    "        clf.fit(trainX, trainY)\n",
    "        return clf.predict(testX)\n"
   ]
  },
  {
   "cell_type": "code",
   "execution_count": 14,
   "metadata": {
    "collapsed": true
   },
   "outputs": [],
   "source": [
    "def fitpredict_fastfm(trainX, trainY, testX, classification=True, rank=8, n_iter=100):\n",
    "    encoder = OneHotEncoder(handle_unknown='ignore').fit(trainX)\n",
    "    trainX = encoder.transform(trainX)\n",
    "    testX = encoder.transform(testX)\n",
    "    if classification:\n",
    "        clf = FMClassification(rank=rank, n_iter=n_iter)\n",
    "        return clf.fit_predict_proba(trainX, trainY, testX)\n",
    "    else:\n",
    "        clf = FMRegression(rank=rank, n_iter=n_iter)\n",
    "        return clf.fit_predict(trainX, trainY, testX) "
   ]
  },
  {
   "cell_type": "code",
   "execution_count": 12,
   "metadata": {
    "collapsed": true
   },
   "outputs": [],
   "source": [
    "def fitpredict_libfm(trainX, trainY, testX, classification=True, rank=8, n_iter=100):\n",
    "    encoder = OneHotEncoder(handle_unknown='ignore').fit(trainX)\n",
    "    trainX = encoder.transform(trainX)\n",
    "    testX = encoder.transform(testX)\n",
    "    train_file = 'libfm_train.txt'\n",
    "    test_file = 'libfm_test.txt'\n",
    "    with open(train_file, 'w') as f:\n",
    "        dump_svmlight_file(trainX, trainY, f=f)\n",
    "    with open(test_file, 'w') as f:\n",
    "        dump_svmlight_file(testX, numpy.zeros(testX.shape[0]), f=f)\n",
    "    task = 'c' if classification else 'r'\n",
    "    console_output = !$LIBFM_PATH -task $task -method mcmc -train $train_file -test $test_file -iter $n_iter -dim '1,1,$rank' -out output.libfm\n",
    "    \n",
    "    libfm_pred = pandas.read_csv('output.libfm', header=None).values.flatten()\n",
    "    return libfm_pred\n"
   ]
  },
  {
   "cell_type": "code",
   "execution_count": 44,
   "metadata": {
    "collapsed": true
   },
   "outputs": [],
   "source": [
    "def fitpredict_pylibfm(trainX, trainY, testX, classification=True, rank=8, n_iter=10):\n",
    "    encoder = OneHotEncoder(handle_unknown='ignore').fit(trainX)\n",
    "    trainX = encoder.transform(trainX)\n",
    "    testX = encoder.transform(testX)\n",
    "    task = 'classification' if classification else 'regression'\n",
    "    fm = pylibfm.FM(num_factors=rank, num_iter=n_iter, verbose=False, task=task)\n",
    "    if classification:\n",
    "        fm.fit(trainX, trainY)\n",
    "    else:\n",
    "        fm.fit(trainX, trainY * 1.)\n",
    "    return fm.predict(testX)"
   ]
  },
  {
   "cell_type": "code",
   "execution_count": 88,
   "metadata": {
    "collapsed": true
   },
   "outputs": [],
   "source": [
    "from collections import OrderedDict\n",
    "import time\n",
    "\n",
    "all_results = OrderedDict()\n",
    "try:\n",
    "    with open('./saved_results.pkl') as f:\n",
    "        all_results = pickle.load(f)\n",
    "except:\n",
    "    pass\n",
    "\n",
    "def test_on_dataset(trainX, testX, trainY, testY, task_name, classification=True, use_pylibfm=True):\n",
    "    algorithms = OrderedDict()\n",
    "    algorithms['logistic'] = fitpredict_logistic\n",
    "    #algorithms['libFM']    = fitpredict_libfm\n",
    "    algorithms['fastFM']   = fitpredict_fastfm\n",
    "    if use_pylibfm:\n",
    "        algorithms['pylibfm']  = fitpredict_pylibfm\n",
    "    \n",
    "    results = pandas.DataFrame()\n",
    "    for name, fit_predict in algorithms.items():\n",
    "        start = time.time()\n",
    "        predictions = fit_predict(trainX, trainY, testX, classification=classification)\n",
    "        spent_time = time.time() - start\n",
    "        results.ix[name, 'time'] = spent_time\n",
    "        if classification:\n",
    "            results.ix[name, 'ROC AUC'] = roc_auc_score(testY, predictions)\n",
    "        else:\n",
    "            results.ix[name, 'RMSE'] = numpy.mean((testY - predictions) ** 2) ** 0.5\n",
    "            \n",
    "    all_results[task_name] = results\n",
    "    with open('saved_results.pkl', 'w') as f:\n",
    "        pickle.dump(all_results, f)\n",
    "        \n",
    "    return results"
   ]
  },
  {
   "cell_type": "code",
   "execution_count": 28,
   "metadata": {
    "collapsed": true
   },
   "outputs": [],
   "source": [
    "users_cols = ['user_id', 'age', 'sex', 'occupation', 'zip_code']\n",
    "users = pd.read_csv('ml-100k/u.user', sep='|', names=users_cols, parse_dates=True) "
   ]
  },
  {
   "cell_type": "code",
   "execution_count": 29,
   "metadata": {
    "collapsed": true
   },
   "outputs": [],
   "source": [
    "rating_cols = ['user_id', 'items_id', 'rating', 'unix_timestamp']\n",
    "ratings = pd.read_csv('ml-100k/u.data', sep='\\t', names=rating_cols)"
   ]
  },
  {
   "cell_type": "code",
   "execution_count": 30,
   "metadata": {},
   "outputs": [],
   "source": [
    "movie_cols = ['items_id', 'title', 'release_date', 'video_release_date', 'imdb_url', 'unknown', 'Action', 'Adventure',\n",
    "              'Animation',\"Children's\", 'Comedy', 'Crime', 'Documentary', 'Drama', 'Fantasy', \n",
    "              'Film-Noir','Horror','Musical','Mystery','Romance','Sci-Fi', \n",
    "              'Thriller', 'War', 'Western']\n",
    "movies = pd.read_csv('ml-100k/u.item', sep='|', names=movie_cols ,encoding='latin-1')"
   ]
  },
  {
   "cell_type": "code",
   "execution_count": 36,
   "metadata": {},
   "outputs": [],
   "source": [
    "movie_ratings = pd.merge(movies, ratings)\n",
    "df = pd.merge(users, movie_ratings)"
   ]
  },
  {
   "cell_type": "code",
   "execution_count": 7,
   "metadata": {},
   "outputs": [],
   "source": [
    "#df = pd.read_csv('ml-100k/u.data', sep='\\t', names=header)"
   ]
  },
  {
   "cell_type": "code",
   "execution_count": 37,
   "metadata": {},
   "outputs": [
    {
     "name": "stdout",
     "output_type": "stream",
     "text": [
      "Number of users = 943 | Number of movies = 1682\n"
     ]
    }
   ],
   "source": [
    "n_users = df.user_id.unique().shape[0]\n",
    "n_items = df.items_id.unique().shape[0]\n",
    "print 'Number of users = ' + str(n_users) + ' | Number of movies = ' + str(n_items)"
   ]
  },
  {
   "cell_type": "code",
   "execution_count": 38,
   "metadata": {},
   "outputs": [],
   "source": [
    "#from sklearn import cross_validation as cv\n",
    "#train, test_data = cv.train_test_split(df, test_size=0.25)\n",
    "#之後請改用model_selection"
   ]
  },
  {
   "cell_type": "code",
   "execution_count": 51,
   "metadata": {},
   "outputs": [
    {
     "data": {
      "text/html": [
       "<div>\n",
       "<style>\n",
       "    .dataframe thead tr:only-child th {\n",
       "        text-align: right;\n",
       "    }\n",
       "\n",
       "    .dataframe thead th {\n",
       "        text-align: left;\n",
       "    }\n",
       "\n",
       "    .dataframe tbody tr th {\n",
       "        vertical-align: top;\n",
       "    }\n",
       "</style>\n",
       "<table border=\"1\" class=\"dataframe\">\n",
       "  <thead>\n",
       "    <tr style=\"text-align: right;\">\n",
       "      <th></th>\n",
       "      <th>user_id</th>\n",
       "      <th>age</th>\n",
       "      <th>sex</th>\n",
       "      <th>occupation</th>\n",
       "      <th>zip_code</th>\n",
       "      <th>items_id</th>\n",
       "      <th>title</th>\n",
       "      <th>release_date</th>\n",
       "      <th>video_release_date</th>\n",
       "      <th>imdb_url</th>\n",
       "      <th>...</th>\n",
       "      <th>Horror</th>\n",
       "      <th>Musical</th>\n",
       "      <th>Mystery</th>\n",
       "      <th>Romance</th>\n",
       "      <th>Sci-Fi</th>\n",
       "      <th>Thriller</th>\n",
       "      <th>War</th>\n",
       "      <th>Western</th>\n",
       "      <th>rating</th>\n",
       "      <th>unix_timestamp</th>\n",
       "    </tr>\n",
       "  </thead>\n",
       "  <tbody>\n",
       "    <tr>\n",
       "      <th>0</th>\n",
       "      <td>1</td>\n",
       "      <td>24</td>\n",
       "      <td>M</td>\n",
       "      <td>technician</td>\n",
       "      <td>85711</td>\n",
       "      <td>1</td>\n",
       "      <td>Toy Story (1995)</td>\n",
       "      <td>01-Jan-1995</td>\n",
       "      <td>NaN</td>\n",
       "      <td>http://us.imdb.com/M/title-exact?Toy%20Story%2...</td>\n",
       "      <td>...</td>\n",
       "      <td>0</td>\n",
       "      <td>0</td>\n",
       "      <td>0</td>\n",
       "      <td>0</td>\n",
       "      <td>0</td>\n",
       "      <td>0</td>\n",
       "      <td>0</td>\n",
       "      <td>0</td>\n",
       "      <td>5</td>\n",
       "      <td>874965758</td>\n",
       "    </tr>\n",
       "    <tr>\n",
       "      <th>1</th>\n",
       "      <td>1</td>\n",
       "      <td>24</td>\n",
       "      <td>M</td>\n",
       "      <td>technician</td>\n",
       "      <td>85711</td>\n",
       "      <td>2</td>\n",
       "      <td>GoldenEye (1995)</td>\n",
       "      <td>01-Jan-1995</td>\n",
       "      <td>NaN</td>\n",
       "      <td>http://us.imdb.com/M/title-exact?GoldenEye%20(...</td>\n",
       "      <td>...</td>\n",
       "      <td>0</td>\n",
       "      <td>0</td>\n",
       "      <td>0</td>\n",
       "      <td>0</td>\n",
       "      <td>0</td>\n",
       "      <td>1</td>\n",
       "      <td>0</td>\n",
       "      <td>0</td>\n",
       "      <td>3</td>\n",
       "      <td>876893171</td>\n",
       "    </tr>\n",
       "    <tr>\n",
       "      <th>2</th>\n",
       "      <td>1</td>\n",
       "      <td>24</td>\n",
       "      <td>M</td>\n",
       "      <td>technician</td>\n",
       "      <td>85711</td>\n",
       "      <td>3</td>\n",
       "      <td>Four Rooms (1995)</td>\n",
       "      <td>01-Jan-1995</td>\n",
       "      <td>NaN</td>\n",
       "      <td>http://us.imdb.com/M/title-exact?Four%20Rooms%...</td>\n",
       "      <td>...</td>\n",
       "      <td>0</td>\n",
       "      <td>0</td>\n",
       "      <td>0</td>\n",
       "      <td>0</td>\n",
       "      <td>0</td>\n",
       "      <td>1</td>\n",
       "      <td>0</td>\n",
       "      <td>0</td>\n",
       "      <td>4</td>\n",
       "      <td>878542960</td>\n",
       "    </tr>\n",
       "    <tr>\n",
       "      <th>3</th>\n",
       "      <td>1</td>\n",
       "      <td>24</td>\n",
       "      <td>M</td>\n",
       "      <td>technician</td>\n",
       "      <td>85711</td>\n",
       "      <td>4</td>\n",
       "      <td>Get Shorty (1995)</td>\n",
       "      <td>01-Jan-1995</td>\n",
       "      <td>NaN</td>\n",
       "      <td>http://us.imdb.com/M/title-exact?Get%20Shorty%...</td>\n",
       "      <td>...</td>\n",
       "      <td>0</td>\n",
       "      <td>0</td>\n",
       "      <td>0</td>\n",
       "      <td>0</td>\n",
       "      <td>0</td>\n",
       "      <td>0</td>\n",
       "      <td>0</td>\n",
       "      <td>0</td>\n",
       "      <td>3</td>\n",
       "      <td>876893119</td>\n",
       "    </tr>\n",
       "    <tr>\n",
       "      <th>4</th>\n",
       "      <td>1</td>\n",
       "      <td>24</td>\n",
       "      <td>M</td>\n",
       "      <td>technician</td>\n",
       "      <td>85711</td>\n",
       "      <td>5</td>\n",
       "      <td>Copycat (1995)</td>\n",
       "      <td>01-Jan-1995</td>\n",
       "      <td>NaN</td>\n",
       "      <td>http://us.imdb.com/M/title-exact?Copycat%20(1995)</td>\n",
       "      <td>...</td>\n",
       "      <td>0</td>\n",
       "      <td>0</td>\n",
       "      <td>0</td>\n",
       "      <td>0</td>\n",
       "      <td>0</td>\n",
       "      <td>1</td>\n",
       "      <td>0</td>\n",
       "      <td>0</td>\n",
       "      <td>3</td>\n",
       "      <td>889751712</td>\n",
       "    </tr>\n",
       "  </tbody>\n",
       "</table>\n",
       "<p>5 rows × 31 columns</p>\n",
       "</div>"
      ],
      "text/plain": [
       "   user_id  age sex  occupation zip_code  items_id              title  \\\n",
       "0        1   24   M  technician    85711         1   Toy Story (1995)   \n",
       "1        1   24   M  technician    85711         2   GoldenEye (1995)   \n",
       "2        1   24   M  technician    85711         3  Four Rooms (1995)   \n",
       "3        1   24   M  technician    85711         4  Get Shorty (1995)   \n",
       "4        1   24   M  technician    85711         5     Copycat (1995)   \n",
       "\n",
       "  release_date  video_release_date  \\\n",
       "0  01-Jan-1995                 NaN   \n",
       "1  01-Jan-1995                 NaN   \n",
       "2  01-Jan-1995                 NaN   \n",
       "3  01-Jan-1995                 NaN   \n",
       "4  01-Jan-1995                 NaN   \n",
       "\n",
       "                                            imdb_url       ...        Horror  \\\n",
       "0  http://us.imdb.com/M/title-exact?Toy%20Story%2...       ...             0   \n",
       "1  http://us.imdb.com/M/title-exact?GoldenEye%20(...       ...             0   \n",
       "2  http://us.imdb.com/M/title-exact?Four%20Rooms%...       ...             0   \n",
       "3  http://us.imdb.com/M/title-exact?Get%20Shorty%...       ...             0   \n",
       "4  http://us.imdb.com/M/title-exact?Copycat%20(1995)       ...             0   \n",
       "\n",
       "   Musical  Mystery  Romance  Sci-Fi  Thriller  War  Western  rating  \\\n",
       "0        0        0        0       0         0    0        0       5   \n",
       "1        0        0        0       0         1    0        0       3   \n",
       "2        0        0        0       0         1    0        0       4   \n",
       "3        0        0        0       0         0    0        0       3   \n",
       "4        0        0        0       0         1    0        0       3   \n",
       "\n",
       "   unix_timestamp  \n",
       "0       874965758  \n",
       "1       876893171  \n",
       "2       878542960  \n",
       "3       876893119  \n",
       "4       889751712  \n",
       "\n",
       "[5 rows x 31 columns]"
      ]
     },
     "execution_count": 51,
     "metadata": {},
     "output_type": "execute_result"
    }
   ],
   "source": [
    "df.head()"
   ]
  },
  {
   "cell_type": "code",
   "execution_count": 54,
   "metadata": {},
   "outputs": [
    {
     "data": {
      "text/plain": [
       "user_id                 int64\n",
       "age                     int64\n",
       "sex                    object\n",
       "occupation             object\n",
       "zip_code               object\n",
       "items_id                int64\n",
       "title                  object\n",
       "release_date           object\n",
       "video_release_date    float64\n",
       "imdb_url               object\n",
       "unknown                 int64\n",
       "Action                  int64\n",
       "Adventure               int64\n",
       "Animation               int64\n",
       "Children's              int64\n",
       "Comedy                  int64\n",
       "Crime                   int64\n",
       "Documentary             int64\n",
       "Drama                   int64\n",
       "Fantasy                 int64\n",
       "Film-Noir               int64\n",
       "Horror                  int64\n",
       "Musical                 int64\n",
       "Mystery                 int64\n",
       "Romance                 int64\n",
       "Sci-Fi                  int64\n",
       "Thriller                int64\n",
       "War                     int64\n",
       "Western                 int64\n",
       "rating                  int64\n",
       "unix_timestamp          int64\n",
       "dtype: object"
      ]
     },
     "execution_count": 54,
     "metadata": {},
     "output_type": "execute_result"
    }
   ],
   "source": [
    "df.dtypes"
   ]
  },
  {
   "cell_type": "code",
   "execution_count": 76,
   "metadata": {},
   "outputs": [],
   "source": [
    "a = df.dtypes != \"object\"\n",
    "df2 = df[a[a.values == True].index].head()\n",
    "df2 = df2.drop([\"video_release_date\"],axis = 1)"
   ]
  },
  {
   "cell_type": "code",
   "execution_count": 78,
   "metadata": {},
   "outputs": [],
   "source": [
    "trainX, testX, trainY, testY = train_test_split(df2.drop([\"items_id\"],axis = 1), df2.items_id, test_size = 0.3)"
   ]
  },
  {
   "cell_type": "code",
   "execution_count": 90,
   "metadata": {},
   "outputs": [
    {
     "data": {
      "text/html": [
       "<div>\n",
       "<style>\n",
       "    .dataframe thead tr:only-child th {\n",
       "        text-align: right;\n",
       "    }\n",
       "\n",
       "    .dataframe thead th {\n",
       "        text-align: left;\n",
       "    }\n",
       "\n",
       "    .dataframe tbody tr th {\n",
       "        vertical-align: top;\n",
       "    }\n",
       "</style>\n",
       "<table border=\"1\" class=\"dataframe\">\n",
       "  <thead>\n",
       "    <tr style=\"text-align: right;\">\n",
       "      <th></th>\n",
       "      <th>user_id</th>\n",
       "      <th>age</th>\n",
       "      <th>unknown</th>\n",
       "      <th>Action</th>\n",
       "      <th>Adventure</th>\n",
       "      <th>Animation</th>\n",
       "      <th>Children's</th>\n",
       "      <th>Comedy</th>\n",
       "      <th>Crime</th>\n",
       "      <th>Documentary</th>\n",
       "      <th>...</th>\n",
       "      <th>Horror</th>\n",
       "      <th>Musical</th>\n",
       "      <th>Mystery</th>\n",
       "      <th>Romance</th>\n",
       "      <th>Sci-Fi</th>\n",
       "      <th>Thriller</th>\n",
       "      <th>War</th>\n",
       "      <th>Western</th>\n",
       "      <th>rating</th>\n",
       "      <th>unix_timestamp</th>\n",
       "    </tr>\n",
       "  </thead>\n",
       "  <tbody>\n",
       "    <tr>\n",
       "      <th>0</th>\n",
       "      <td>1</td>\n",
       "      <td>24</td>\n",
       "      <td>0</td>\n",
       "      <td>0</td>\n",
       "      <td>0</td>\n",
       "      <td>1</td>\n",
       "      <td>1</td>\n",
       "      <td>1</td>\n",
       "      <td>0</td>\n",
       "      <td>0</td>\n",
       "      <td>...</td>\n",
       "      <td>0</td>\n",
       "      <td>0</td>\n",
       "      <td>0</td>\n",
       "      <td>0</td>\n",
       "      <td>0</td>\n",
       "      <td>0</td>\n",
       "      <td>0</td>\n",
       "      <td>0</td>\n",
       "      <td>5</td>\n",
       "      <td>874965758</td>\n",
       "    </tr>\n",
       "    <tr>\n",
       "      <th>1</th>\n",
       "      <td>1</td>\n",
       "      <td>24</td>\n",
       "      <td>0</td>\n",
       "      <td>1</td>\n",
       "      <td>1</td>\n",
       "      <td>0</td>\n",
       "      <td>0</td>\n",
       "      <td>0</td>\n",
       "      <td>0</td>\n",
       "      <td>0</td>\n",
       "      <td>...</td>\n",
       "      <td>0</td>\n",
       "      <td>0</td>\n",
       "      <td>0</td>\n",
       "      <td>0</td>\n",
       "      <td>0</td>\n",
       "      <td>1</td>\n",
       "      <td>0</td>\n",
       "      <td>0</td>\n",
       "      <td>3</td>\n",
       "      <td>876893171</td>\n",
       "    </tr>\n",
       "    <tr>\n",
       "      <th>2</th>\n",
       "      <td>1</td>\n",
       "      <td>24</td>\n",
       "      <td>0</td>\n",
       "      <td>0</td>\n",
       "      <td>0</td>\n",
       "      <td>0</td>\n",
       "      <td>0</td>\n",
       "      <td>0</td>\n",
       "      <td>0</td>\n",
       "      <td>0</td>\n",
       "      <td>...</td>\n",
       "      <td>0</td>\n",
       "      <td>0</td>\n",
       "      <td>0</td>\n",
       "      <td>0</td>\n",
       "      <td>0</td>\n",
       "      <td>1</td>\n",
       "      <td>0</td>\n",
       "      <td>0</td>\n",
       "      <td>4</td>\n",
       "      <td>878542960</td>\n",
       "    </tr>\n",
       "  </tbody>\n",
       "</table>\n",
       "<p>3 rows × 23 columns</p>\n",
       "</div>"
      ],
      "text/plain": [
       "   user_id  age  unknown  Action  Adventure  Animation  Children's  Comedy  \\\n",
       "0        1   24        0       0          0          1           1       1   \n",
       "1        1   24        0       1          1          0           0       0   \n",
       "2        1   24        0       0          0          0           0       0   \n",
       "\n",
       "   Crime  Documentary       ...        Horror  Musical  Mystery  Romance  \\\n",
       "0      0            0       ...             0        0        0        0   \n",
       "1      0            0       ...             0        0        0        0   \n",
       "2      0            0       ...             0        0        0        0   \n",
       "\n",
       "   Sci-Fi  Thriller  War  Western  rating  unix_timestamp  \n",
       "0       0         0    0        0       5       874965758  \n",
       "1       0         1    0        0       3       876893171  \n",
       "2       0         1    0        0       4       878542960  \n",
       "\n",
       "[3 rows x 23 columns]"
      ]
     },
     "execution_count": 90,
     "metadata": {},
     "output_type": "execute_result"
    }
   ],
   "source": [
    "trainX.head()"
   ]
  },
  {
   "cell_type": "code",
   "execution_count": 89,
   "metadata": {},
   "outputs": [
    {
     "name": "stderr",
     "output_type": "stream",
     "text": [
      "/Users/Jessica/anaconda2/lib/python2.7/site-packages/ipykernel_launcher.py:24: DeprecationWarning: \n",
      ".ix is deprecated. Please use\n",
      ".loc for label based indexing or\n",
      ".iloc for positional indexing\n",
      "\n",
      "See the documentation here:\n",
      "http://pandas.pydata.org/pandas-docs/stable/indexing.html#deprecate_ix\n"
     ]
    },
    {
     "data": {
      "text/html": [
       "<div>\n",
       "<style>\n",
       "    .dataframe thead tr:only-child th {\n",
       "        text-align: right;\n",
       "    }\n",
       "\n",
       "    .dataframe thead th {\n",
       "        text-align: left;\n",
       "    }\n",
       "\n",
       "    .dataframe tbody tr th {\n",
       "        vertical-align: top;\n",
       "    }\n",
       "</style>\n",
       "<table border=\"1\" class=\"dataframe\">\n",
       "  <thead>\n",
       "    <tr style=\"text-align: right;\">\n",
       "      <th></th>\n",
       "      <th>time</th>\n",
       "      <th>RMSE</th>\n",
       "    </tr>\n",
       "  </thead>\n",
       "  <tbody>\n",
       "    <tr>\n",
       "      <th>logistic</th>\n",
       "      <td>77.526744</td>\n",
       "      <td>2.437634</td>\n",
       "    </tr>\n",
       "    <tr>\n",
       "      <th>fastFM</th>\n",
       "      <td>73.389579</td>\n",
       "      <td>3.417266</td>\n",
       "    </tr>\n",
       "    <tr>\n",
       "      <th>pylibfm</th>\n",
       "      <td>79.803950</td>\n",
       "      <td>3.302464</td>\n",
       "    </tr>\n",
       "  </tbody>\n",
       "</table>\n",
       "</div>"
      ],
      "text/plain": [
       "               time      RMSE\n",
       "logistic  77.526744  2.437634\n",
       "fastFM    73.389579  3.417266\n",
       "pylibfm   79.803950  3.302464"
      ]
     },
     "execution_count": 89,
     "metadata": {},
     "output_type": "execute_result"
    }
   ],
   "source": [
    "test_on_dataset(trainX, testX, trainY, testY, task_name='ml100k, ids', classification=False)"
   ]
  },
  {
   "cell_type": "code",
   "execution_count": null,
   "metadata": {
    "collapsed": true
   },
   "outputs": [],
   "source": []
  }
 ],
 "metadata": {
  "kernelspec": {
   "display_name": "Python 2",
   "language": "python",
   "name": "python2"
  },
  "language_info": {
   "codemirror_mode": {
    "name": "ipython",
    "version": 2
   },
   "file_extension": ".py",
   "mimetype": "text/x-python",
   "name": "python",
   "nbconvert_exporter": "python",
   "pygments_lexer": "ipython2",
   "version": "2.7.13"
  }
 },
 "nbformat": 4,
 "nbformat_minor": 2
}
